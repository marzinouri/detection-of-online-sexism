{
  "nbformat": 4,
  "nbformat_minor": 0,
  "metadata": {
    "colab": {
      "provenance": []
    },
    "kernelspec": {
      "name": "python3",
      "display_name": "Python 3"
    },
    "language_info": {
      "name": "python"
    },
    "accelerator": "GPU",
    "gpuClass": "standard"
  },
  "cells": [
    {
      "cell_type": "markdown",
      "source": [
        "# Libraries"
      ],
      "metadata": {
        "id": "E0np1C3KL1Hu"
      }
    },
    {
      "cell_type": "code",
      "source": [
        "import pandas as pd\n",
        "import json\n",
        "import os\n",
        "import numpy as np\n",
        "import collections\n",
        "\n",
        "from imblearn.under_sampling import RandomUnderSampler\n",
        "from imblearn.over_sampling import RandomOverSampler\n",
        "\n",
        "\n",
        "from sklearn.feature_extraction.text import CountVectorizer, TfidfVectorizer\n",
        "from sklearn.svm import SVC\n",
        "\n",
        "from sklearn.model_selection import train_test_split\n",
        "from sklearn.metrics import confusion_matrix,classification_report\n",
        "from sklearn.feature_extraction.text import CountVectorizer, TfidfVectorizer\n",
        "from sklearn.ensemble import RandomForestClassifier\n",
        "from sklearn.linear_model import LogisticRegression\n",
        "from sklearn.metrics import confusion_matrix,classification_report\n",
        "from sklearn.metrics import f1_score\n",
        "from sklearn.utils import shuffle\n",
        "\n",
        "import torch\n",
        "import torch.nn as nn\n",
        "import torch.nn.functional as F\n",
        "\n",
        "from tqdm.notebook import tqdm"
      ],
      "metadata": {
        "id": "S7mF4e48L3F7"
      },
      "execution_count": null,
      "outputs": []
    },
    {
      "cell_type": "markdown",
      "source": [
        "# Data"
      ],
      "metadata": {
        "id": "sZRq-WoBKiXK"
      }
    },
    {
      "cell_type": "code",
      "source": [
        "train_df = pd.read_csv(\"/content/drive/MyDrive/SemEval2023/train_all_tasks.csv\")"
      ],
      "metadata": {
        "id": "3IUBwU2DhLI0"
      },
      "execution_count": null,
      "outputs": []
    },
    {
      "cell_type": "code",
      "source": [
        "train_df.groupby('label_sexist').size()"
      ],
      "metadata": {
        "colab": {
          "base_uri": "https://localhost:8080/"
        },
        "id": "_AVFSlbzuUti",
        "outputId": "8e54f067-4ad6-4dc7-f18d-c8a7d875d0d0"
      },
      "execution_count": null,
      "outputs": [
        {
          "output_type": "execute_result",
          "data": {
            "text/plain": [
              "label_sexist\n",
              "not sexist    10602\n",
              "sexist         3398\n",
              "dtype: int64"
            ]
          },
          "metadata": {},
          "execution_count": 3
        }
      ]
    },
    {
      "cell_type": "code",
      "source": [
        "train_df.groupby('label_category').size()"
      ],
      "metadata": {
        "colab": {
          "base_uri": "https://localhost:8080/"
        },
        "id": "DyMNr4N-udX_",
        "outputId": "f66db01c-69aa-4e25-f7a0-9ed4995120bf"
      },
      "execution_count": null,
      "outputs": [
        {
          "output_type": "execute_result",
          "data": {
            "text/plain": [
              "label_category\n",
              "1. threats, plans to harm and incitement      310\n",
              "2. derogation                                1590\n",
              "3. animosity                                 1165\n",
              "4. prejudiced discussions                     333\n",
              "none                                        10602\n",
              "dtype: int64"
            ]
          },
          "metadata": {},
          "execution_count": 4
        }
      ]
    },
    {
      "cell_type": "code",
      "source": [
        "train_df.groupby('label_vector').size()"
      ],
      "metadata": {
        "colab": {
          "base_uri": "https://localhost:8080/"
        },
        "id": "mA1NIEc4uhbd",
        "outputId": "946cd426-6c4a-48c8-fbba-5e9a5853e7d0"
      },
      "execution_count": null,
      "outputs": [
        {
          "output_type": "execute_result",
          "data": {
            "text/plain": [
              "label_vector\n",
              "1.1 threats of harm                                                   56\n",
              "1.2 incitement and encouragement of harm                             254\n",
              "2.1 descriptive attacks                                              717\n",
              "2.2 aggressive and emotive attacks                                   673\n",
              "2.3 dehumanising attacks & overt sexual objectification              200\n",
              "3.1 casual use of gendered slurs, profanities, and insults           637\n",
              "3.2 immutable gender differences and gender stereotypes              417\n",
              "3.3 backhanded gendered compliments                                   64\n",
              "3.4 condescending explanations or unwelcome advice                    47\n",
              "4.1 supporting mistreatment of individual women                       75\n",
              "4.2 supporting systemic discrimination against women as a group      258\n",
              "none                                                               10602\n",
              "dtype: int64"
            ]
          },
          "metadata": {},
          "execution_count": 5
        }
      ]
    },
    {
      "cell_type": "markdown",
      "source": [
        "# Preparing Data"
      ],
      "metadata": {
        "id": "A58_sRrwK2px"
      }
    },
    {
      "cell_type": "code",
      "source": [
        "eval_b_labels = pd.read_csv(\"/content/drive/MyDrive/SemEval2023/dev_task_b_labels.csv\")\n",
        "eval_b_entries = pd.read_csv(\"/content/drive/MyDrive/SemEval2023/dev_task_b_entries.csv\")\n",
        "eval_c_labels = pd.read_csv(\"/content/drive/MyDrive/SemEval2023/dev_task_c_labels.csv\")\n",
        "eval_c_entries = pd.read_csv(\"/content/drive/MyDrive/SemEval2023/dev_task_c_entries.csv\")"
      ],
      "metadata": {
        "id": "k0t0u_QTJ_CS"
      },
      "execution_count": null,
      "outputs": []
    },
    {
      "cell_type": "code",
      "source": [
        "train_b_and_c_df = train_df.loc[train_df['label_sexist']!=\"not sexist\"]"
      ],
      "metadata": {
        "id": "NCaJWs57JSTG"
      },
      "execution_count": null,
      "outputs": []
    },
    {
      "cell_type": "code",
      "source": [
        "train_b_and_c_df = train_b_and_c_df.sample(frac=1, random_state=42).reset_index(drop=True)"
      ],
      "metadata": {
        "id": "dVGvPvyDua2R"
      },
      "execution_count": null,
      "outputs": []
    },
    {
      "cell_type": "code",
      "source": [
        "eval_b_df = pd.merge(eval_b_entries, eval_b_labels, on = \"rewire_id\")\n",
        "eval_c_df = pd.merge(eval_c_entries, eval_c_labels, on = \"rewire_id\")"
      ],
      "metadata": {
        "id": "0B3jJGx2FIXF"
      },
      "execution_count": null,
      "outputs": []
    },
    {
      "cell_type": "code",
      "source": [
        "labels_b = eval_b_df['label'].values.tolist()\n",
        "labels_c = eval_c_df['label'].values.tolist()"
      ],
      "metadata": {
        "id": "8Fr04IzPEsK6"
      },
      "execution_count": null,
      "outputs": []
    },
    {
      "cell_type": "markdown",
      "source": [],
      "metadata": {
        "id": "6WViqFfAoYwO"
      }
    },
    {
      "cell_type": "markdown",
      "source": [
        "# Task A"
      ],
      "metadata": {
        "id": "GxI9nrF4oHLe"
      }
    },
    {
      "cell_type": "markdown",
      "source": [
        "## Baseline TF-IDF Upsample"
      ],
      "metadata": {
        "id": "GRmI0wFX4htV"
      }
    },
    {
      "cell_type": "code",
      "source": [
        "from imblearn.over_sampling import RandomOverSampler\n",
        "import pandas as pd\n",
        "\n",
        "# Load dataset\n",
        "data = pd.read_csv(\"data.csv\")\n",
        "X = data.drop(\"label\", axis=1)\n",
        "y = data[\"label\"]\n",
        "\n",
        "# Instanciate a RandomOverSampler object\n",
        "ros = RandomOverSampler(random_state=0)\n",
        "\n",
        "# Fit and transform the dataset\n",
        "X_resampled, y_resampled = ros.fit_resample(X, y)"
      ],
      "metadata": {
        "id": "5Z_eXzEd7OUC"
      },
      "execution_count": null,
      "outputs": []
    },
    {
      "cell_type": "code",
      "source": [
        "len(train_df)"
      ],
      "metadata": {
        "colab": {
          "base_uri": "https://localhost:8080/"
        },
        "id": "C-wS7uGA8sHK",
        "outputId": "fe66ec08-8010-4d62-eddc-e4852a4c2ffe"
      },
      "execution_count": null,
      "outputs": [
        {
          "output_type": "execute_result",
          "data": {
            "text/plain": [
              "14000"
            ]
          },
          "metadata": {},
          "execution_count": 104
        }
      ]
    },
    {
      "cell_type": "code",
      "source": [
        "X = train_df.drop(\"label_sexist\", axis=1)\n",
        "y = train_df[\"label_sexist\"]\n",
        "\n",
        "ros = RandomOverSampler(random_state=42)\n",
        "X_upsampled, y_upsampled = ros.fit_resample(X, y)"
      ],
      "metadata": {
        "id": "yOZA-Y_e4Sav"
      },
      "execution_count": null,
      "outputs": []
    },
    {
      "cell_type": "code",
      "source": [
        "tfidf_vectorizer = TfidfVectorizer()\n",
        "tfidf_train_vectors = tfidf_vectorizer.fit_transform(X_upsampled['text'])\n",
        "# tfidf_test_vectors = tfidf_vectorizer.transform(test['text'])\n",
        "tfidf_eval_vectors = tfidf_vectorizer.transform(eval_df['text'])"
      ],
      "metadata": {
        "id": "i928-xY94htZ"
      },
      "execution_count": null,
      "outputs": []
    },
    {
      "cell_type": "code",
      "source": [
        "svc_classifier = SVC()\n",
        "svc_classifier.fit(tfidf_train_vectors,y_upsampled)"
      ],
      "metadata": {
        "colab": {
          "base_uri": "https://localhost:8080/"
        },
        "outputId": "61024d8e-e2b6-42b1-877a-a00085776495",
        "id": "s8QitdhC4htb"
      },
      "execution_count": null,
      "outputs": [
        {
          "output_type": "execute_result",
          "data": {
            "text/plain": [
              "SVC()"
            ]
          },
          "metadata": {},
          "execution_count": 108
        }
      ]
    },
    {
      "cell_type": "code",
      "source": [
        "tfidf_y_pred = svc_classifier.predict(tfidf_eval_vectors)"
      ],
      "metadata": {
        "id": "Hh5MuByZ4htf"
      },
      "execution_count": null,
      "outputs": []
    },
    {
      "cell_type": "code",
      "source": [
        "ground_truth = pd.read_csv(\"/content/drive/MyDrive/SemEval2023/df_val.csv\")\n",
        "ground_truth.head()"
      ],
      "metadata": {
        "colab": {
          "base_uri": "https://localhost:8080/",
          "height": 203
        },
        "outputId": "51358981-645c-47a5-8ad6-2d462b274941",
        "id": "JDDDxBXk4hth"
      },
      "execution_count": null,
      "outputs": [
        {
          "output_type": "execute_result",
          "data": {
            "text/plain": [
              "                  rewire_id  \\\n",
              "0  sexism2022_english-11999   \n",
              "1   sexism2022_english-9895   \n",
              "2  sexism2022_english-11623   \n",
              "3  sexism2022_english-19035   \n",
              "4    sexism2022_english-895   \n",
              "\n",
              "                                                text       label  \n",
              "0  I do not try to hard. I do what guys who get w...  not sexist  \n",
              "1  That sucks. We elected a Navy Seal in Missouri...  not sexist  \n",
              "2  Walk away and never look back. If she reaches ...  not sexist  \n",
              "3  basically I placed more value on her than I sh...  not sexist  \n",
              "4  NYT and Asian \"part ways.\" But why on earth wa...  not sexist  "
            ],
            "text/html": [
              "\n",
              "  <div id=\"df-d4d1a613-9de6-469f-a870-27b272055496\">\n",
              "    <div class=\"colab-df-container\">\n",
              "      <div>\n",
              "<style scoped>\n",
              "    .dataframe tbody tr th:only-of-type {\n",
              "        vertical-align: middle;\n",
              "    }\n",
              "\n",
              "    .dataframe tbody tr th {\n",
              "        vertical-align: top;\n",
              "    }\n",
              "\n",
              "    .dataframe thead th {\n",
              "        text-align: right;\n",
              "    }\n",
              "</style>\n",
              "<table border=\"1\" class=\"dataframe\">\n",
              "  <thead>\n",
              "    <tr style=\"text-align: right;\">\n",
              "      <th></th>\n",
              "      <th>rewire_id</th>\n",
              "      <th>text</th>\n",
              "      <th>label</th>\n",
              "    </tr>\n",
              "  </thead>\n",
              "  <tbody>\n",
              "    <tr>\n",
              "      <th>0</th>\n",
              "      <td>sexism2022_english-11999</td>\n",
              "      <td>I do not try to hard. I do what guys who get w...</td>\n",
              "      <td>not sexist</td>\n",
              "    </tr>\n",
              "    <tr>\n",
              "      <th>1</th>\n",
              "      <td>sexism2022_english-9895</td>\n",
              "      <td>That sucks. We elected a Navy Seal in Missouri...</td>\n",
              "      <td>not sexist</td>\n",
              "    </tr>\n",
              "    <tr>\n",
              "      <th>2</th>\n",
              "      <td>sexism2022_english-11623</td>\n",
              "      <td>Walk away and never look back. If she reaches ...</td>\n",
              "      <td>not sexist</td>\n",
              "    </tr>\n",
              "    <tr>\n",
              "      <th>3</th>\n",
              "      <td>sexism2022_english-19035</td>\n",
              "      <td>basically I placed more value on her than I sh...</td>\n",
              "      <td>not sexist</td>\n",
              "    </tr>\n",
              "    <tr>\n",
              "      <th>4</th>\n",
              "      <td>sexism2022_english-895</td>\n",
              "      <td>NYT and Asian \"part ways.\" But why on earth wa...</td>\n",
              "      <td>not sexist</td>\n",
              "    </tr>\n",
              "  </tbody>\n",
              "</table>\n",
              "</div>\n",
              "      <button class=\"colab-df-convert\" onclick=\"convertToInteractive('df-d4d1a613-9de6-469f-a870-27b272055496')\"\n",
              "              title=\"Convert this dataframe to an interactive table.\"\n",
              "              style=\"display:none;\">\n",
              "        \n",
              "  <svg xmlns=\"http://www.w3.org/2000/svg\" height=\"24px\"viewBox=\"0 0 24 24\"\n",
              "       width=\"24px\">\n",
              "    <path d=\"M0 0h24v24H0V0z\" fill=\"none\"/>\n",
              "    <path d=\"M18.56 5.44l.94 2.06.94-2.06 2.06-.94-2.06-.94-.94-2.06-.94 2.06-2.06.94zm-11 1L8.5 8.5l.94-2.06 2.06-.94-2.06-.94L8.5 2.5l-.94 2.06-2.06.94zm10 10l.94 2.06.94-2.06 2.06-.94-2.06-.94-.94-2.06-.94 2.06-2.06.94z\"/><path d=\"M17.41 7.96l-1.37-1.37c-.4-.4-.92-.59-1.43-.59-.52 0-1.04.2-1.43.59L10.3 9.45l-7.72 7.72c-.78.78-.78 2.05 0 2.83L4 21.41c.39.39.9.59 1.41.59.51 0 1.02-.2 1.41-.59l7.78-7.78 2.81-2.81c.8-.78.8-2.07 0-2.86zM5.41 20L4 18.59l7.72-7.72 1.47 1.35L5.41 20z\"/>\n",
              "  </svg>\n",
              "      </button>\n",
              "      \n",
              "  <style>\n",
              "    .colab-df-container {\n",
              "      display:flex;\n",
              "      flex-wrap:wrap;\n",
              "      gap: 12px;\n",
              "    }\n",
              "\n",
              "    .colab-df-convert {\n",
              "      background-color: #E8F0FE;\n",
              "      border: none;\n",
              "      border-radius: 50%;\n",
              "      cursor: pointer;\n",
              "      display: none;\n",
              "      fill: #1967D2;\n",
              "      height: 32px;\n",
              "      padding: 0 0 0 0;\n",
              "      width: 32px;\n",
              "    }\n",
              "\n",
              "    .colab-df-convert:hover {\n",
              "      background-color: #E2EBFA;\n",
              "      box-shadow: 0px 1px 2px rgba(60, 64, 67, 0.3), 0px 1px 3px 1px rgba(60, 64, 67, 0.15);\n",
              "      fill: #174EA6;\n",
              "    }\n",
              "\n",
              "    [theme=dark] .colab-df-convert {\n",
              "      background-color: #3B4455;\n",
              "      fill: #D2E3FC;\n",
              "    }\n",
              "\n",
              "    [theme=dark] .colab-df-convert:hover {\n",
              "      background-color: #434B5C;\n",
              "      box-shadow: 0px 1px 3px 1px rgba(0, 0, 0, 0.15);\n",
              "      filter: drop-shadow(0px 1px 2px rgba(0, 0, 0, 0.3));\n",
              "      fill: #FFFFFF;\n",
              "    }\n",
              "  </style>\n",
              "\n",
              "      <script>\n",
              "        const buttonEl =\n",
              "          document.querySelector('#df-d4d1a613-9de6-469f-a870-27b272055496 button.colab-df-convert');\n",
              "        buttonEl.style.display =\n",
              "          google.colab.kernel.accessAllowed ? 'block' : 'none';\n",
              "\n",
              "        async function convertToInteractive(key) {\n",
              "          const element = document.querySelector('#df-d4d1a613-9de6-469f-a870-27b272055496');\n",
              "          const dataTable =\n",
              "            await google.colab.kernel.invokeFunction('convertToInteractive',\n",
              "                                                     [key], {});\n",
              "          if (!dataTable) return;\n",
              "\n",
              "          const docLinkHtml = 'Like what you see? Visit the ' +\n",
              "            '<a target=\"_blank\" href=https://colab.research.google.com/notebooks/data_table.ipynb>data table notebook</a>'\n",
              "            + ' to learn more about interactive tables.';\n",
              "          element.innerHTML = '';\n",
              "          dataTable['output_type'] = 'display_data';\n",
              "          await google.colab.output.renderOutput(dataTable, element);\n",
              "          const docLink = document.createElement('div');\n",
              "          docLink.innerHTML = docLinkHtml;\n",
              "          element.appendChild(docLink);\n",
              "        }\n",
              "      </script>\n",
              "    </div>\n",
              "  </div>\n",
              "  "
            ]
          },
          "metadata": {},
          "execution_count": 110
        }
      ]
    },
    {
      "cell_type": "code",
      "source": [
        "g = ground_truth['label'].values.tolist()\n",
        "len(g)"
      ],
      "metadata": {
        "colab": {
          "base_uri": "https://localhost:8080/"
        },
        "outputId": "97bf6e20-5853-400b-c798-b85cd894538d",
        "id": "83_QGznA4hti"
      },
      "execution_count": null,
      "outputs": [
        {
          "output_type": "execute_result",
          "data": {
            "text/plain": [
              "2000"
            ]
          },
          "metadata": {},
          "execution_count": 111
        }
      ]
    },
    {
      "cell_type": "code",
      "source": [
        "len(tfidf_y_pred)"
      ],
      "metadata": {
        "colab": {
          "base_uri": "https://localhost:8080/"
        },
        "outputId": "19c2225c-d5d1-4b05-d326-0259a143e296",
        "id": "dXzYcnCH4htj"
      },
      "execution_count": null,
      "outputs": [
        {
          "output_type": "execute_result",
          "data": {
            "text/plain": [
              "2000"
            ]
          },
          "metadata": {},
          "execution_count": 112
        }
      ]
    },
    {
      "cell_type": "code",
      "source": [
        "print(classification_report(g,tfidf_y_pred))"
      ],
      "metadata": {
        "colab": {
          "base_uri": "https://localhost:8080/"
        },
        "outputId": "54a99e26-1234-4ea9-ba29-647b96e7fbd4",
        "id": "gRhOEOlq4htk"
      },
      "execution_count": null,
      "outputs": [
        {
          "output_type": "stream",
          "name": "stdout",
          "text": [
            "              precision    recall  f1-score   support\n",
            "\n",
            "  not sexist       0.84      0.96      0.89      1514\n",
            "      sexist       0.76      0.43      0.55       486\n",
            "\n",
            "    accuracy                           0.83      2000\n",
            "   macro avg       0.80      0.69      0.72      2000\n",
            "weighted avg       0.82      0.83      0.81      2000\n",
            "\n"
          ]
        }
      ]
    },
    {
      "cell_type": "markdown",
      "source": [
        "## Baseline TF-IDF Undersample"
      ],
      "metadata": {
        "id": "d_jWTENlxXhK"
      }
    },
    {
      "cell_type": "code",
      "source": [
        "X = train_df.drop(\"label_sexist\", axis=1)\n",
        "y = train_df[\"label_sexist\"]\n",
        "\n",
        "rus = RandomUnderSampler(random_state=0)\n",
        "X_undersampled, y_undersampled = rus.fit_resample(X, y)"
      ],
      "metadata": {
        "id": "4MxFS0I6niIk"
      },
      "execution_count": null,
      "outputs": []
    },
    {
      "cell_type": "code",
      "source": [
        "tfidf_vectorizer = TfidfVectorizer()\n",
        "tfidf_train_vectors = tfidf_vectorizer.fit_transform(X_undersampled['text'])\n",
        "tfidf_eval_vectors = tfidf_vectorizer.transform(eval_df['text'])"
      ],
      "metadata": {
        "id": "eclpfa98xhKX"
      },
      "execution_count": null,
      "outputs": []
    },
    {
      "cell_type": "code",
      "source": [
        "svc_classifier = SVC()\n",
        "svc_classifier.fit(tfidf_train_vectors,y_undersampled)"
      ],
      "metadata": {
        "colab": {
          "base_uri": "https://localhost:8080/"
        },
        "id": "-AwU7WhhyCHF",
        "outputId": "f3e51e75-471d-4302-de83-661739dcfb2e"
      },
      "execution_count": null,
      "outputs": [
        {
          "output_type": "execute_result",
          "data": {
            "text/plain": [
              "SVC()"
            ]
          },
          "metadata": {},
          "execution_count": 60
        }
      ]
    },
    {
      "cell_type": "code",
      "source": [
        "tfidf_y_pred = svc_classifier.predict(tfidf_eval_vectors)"
      ],
      "metadata": {
        "id": "2jCMcjK6y6Mx"
      },
      "execution_count": null,
      "outputs": []
    },
    {
      "cell_type": "code",
      "source": [
        "print(classification_report(g,tfidf_y_pred))"
      ],
      "metadata": {
        "colab": {
          "base_uri": "https://localhost:8080/"
        },
        "id": "qbX8iDKtA543",
        "outputId": "4a7407ff-2eb6-446e-9187-291017c90c77"
      },
      "execution_count": null,
      "outputs": [
        {
          "output_type": "stream",
          "name": "stdout",
          "text": [
            "              precision    recall  f1-score   support\n",
            "\n",
            "  not sexist       0.88      0.78      0.83      1514\n",
            "      sexist       0.49      0.66      0.56       486\n",
            "\n",
            "    accuracy                           0.75      2000\n",
            "   macro avg       0.69      0.72      0.70      2000\n",
            "weighted avg       0.78      0.75      0.76      2000\n",
            "\n"
          ]
        }
      ]
    },
    {
      "cell_type": "markdown",
      "source": [
        "# Task B"
      ],
      "metadata": {
        "id": "gL1fhpDwLGRq"
      }
    },
    {
      "cell_type": "code",
      "source": [
        "tfidf_vectorizer = TfidfVectorizer()\n",
        "\n",
        "tfidf_train_b_vectors = tfidf_vectorizer.fit_transform(train_b_and_c_df['text'])\n",
        "tfidf_eval_b_vectors = tfidf_vectorizer.transform(eval_b_df['text'])"
      ],
      "metadata": {
        "id": "n8-Os1ix7OT-"
      },
      "execution_count": null,
      "outputs": []
    },
    {
      "cell_type": "markdown",
      "source": [
        "**SVM**"
      ],
      "metadata": {
        "id": "UA7rHEJsk7sw"
      }
    },
    {
      "cell_type": "code",
      "source": [
        "svc_classifier = SVC(random_state=42)\n",
        "svc_classifier.fit(tfidf_train_b_vectors,train_b_and_c_df['label_category'])"
      ],
      "metadata": {
        "colab": {
          "base_uri": "https://localhost:8080/"
        },
        "outputId": "a9c65af8-0fcb-41cb-b870-092616f0c76c",
        "id": "mvaPmDIA7OT_"
      },
      "execution_count": null,
      "outputs": [
        {
          "output_type": "execute_result",
          "data": {
            "text/plain": [
              "SVC(random_state=42)"
            ]
          },
          "metadata": {},
          "execution_count": 12
        }
      ]
    },
    {
      "cell_type": "code",
      "source": [
        "svc_tfidf_y_b_pred = svc_classifier.predict(tfidf_eval_b_vectors)"
      ],
      "metadata": {
        "id": "i7Put4Uy7OUA"
      },
      "execution_count": null,
      "outputs": []
    },
    {
      "cell_type": "code",
      "source": [
        "print(classification_report(labels_b,svc_tfidf_y_b_pred))"
      ],
      "metadata": {
        "colab": {
          "base_uri": "https://localhost:8080/"
        },
        "outputId": "0286ce85-61c9-459f-fc12-c33872f2fd3b",
        "id": "GFbcifRb7OUC"
      },
      "execution_count": null,
      "outputs": [
        {
          "output_type": "stream",
          "name": "stdout",
          "text": [
            "                                          precision    recall  f1-score   support\n",
            "\n",
            "1. threats, plans to harm and incitement       0.83      0.11      0.20        44\n",
            "                           2. derogation       0.51      0.90      0.65       227\n",
            "                            3. animosity       0.60      0.29      0.39       167\n",
            "               4. prejudiced discussions       0.00      0.00      0.00        48\n",
            "\n",
            "                                accuracy                           0.53       486\n",
            "                               macro avg       0.49      0.33      0.31       486\n",
            "                            weighted avg       0.52      0.53      0.46       486\n",
            "\n"
          ]
        },
        {
          "output_type": "stream",
          "name": "stderr",
          "text": [
            "/usr/local/lib/python3.8/dist-packages/sklearn/metrics/_classification.py:1318: UndefinedMetricWarning: Precision and F-score are ill-defined and being set to 0.0 in labels with no predicted samples. Use `zero_division` parameter to control this behavior.\n",
            "  _warn_prf(average, modifier, msg_start, len(result))\n",
            "/usr/local/lib/python3.8/dist-packages/sklearn/metrics/_classification.py:1318: UndefinedMetricWarning: Precision and F-score are ill-defined and being set to 0.0 in labels with no predicted samples. Use `zero_division` parameter to control this behavior.\n",
            "  _warn_prf(average, modifier, msg_start, len(result))\n",
            "/usr/local/lib/python3.8/dist-packages/sklearn/metrics/_classification.py:1318: UndefinedMetricWarning: Precision and F-score are ill-defined and being set to 0.0 in labels with no predicted samples. Use `zero_division` parameter to control this behavior.\n",
            "  _warn_prf(average, modifier, msg_start, len(result))\n"
          ]
        }
      ]
    },
    {
      "cell_type": "markdown",
      "source": [
        "**Logistic Regression**"
      ],
      "metadata": {
        "id": "GCSpdrwNkz5S"
      }
    },
    {
      "cell_type": "code",
      "source": [
        "# test on train set\n",
        "# lr_classifier = LogisticRegression(random_state=42).fit(tfidf_train_b_vectors,train_b_and_c_df['label_category'])\n",
        "# lr_tfidf_y_b_pred = lr_classifier.predict(tfidf_train_b_vectors)\n",
        "# print(classification_report(train_b_and_c_df['label_category'],lr_tfidf_y_b_pred))"
      ],
      "metadata": {
        "id": "IjGko5tlnZUo"
      },
      "execution_count": null,
      "outputs": []
    },
    {
      "cell_type": "code",
      "source": [
        "lr_classifier = LogisticRegression(random_state=42).fit(tfidf_train_b_vectors,train_b_and_c_df['label_category'])"
      ],
      "metadata": {
        "id": "KIaeRfYfilLp"
      },
      "execution_count": null,
      "outputs": []
    },
    {
      "cell_type": "code",
      "source": [
        "lr_tfidf_y_b_pred = lr_classifier.predict(tfidf_eval_b_vectors)"
      ],
      "metadata": {
        "id": "JdJqAHVPiyfu"
      },
      "execution_count": null,
      "outputs": []
    },
    {
      "cell_type": "code",
      "source": [
        "print(classification_report(labels_b,lr_tfidf_y_b_pred))"
      ],
      "metadata": {
        "colab": {
          "base_uri": "https://localhost:8080/"
        },
        "id": "nYdCKQJhi2zM",
        "outputId": "96b9f045-5547-4526-f09d-743411107460"
      },
      "execution_count": null,
      "outputs": [
        {
          "output_type": "stream",
          "name": "stdout",
          "text": [
            "                                          precision    recall  f1-score   support\n",
            "\n",
            "1. threats, plans to harm and incitement       0.77      0.23      0.35        44\n",
            "                           2. derogation       0.56      0.85      0.67       227\n",
            "                            3. animosity       0.56      0.43      0.48       167\n",
            "               4. prejudiced discussions       0.67      0.04      0.08        48\n",
            "\n",
            "                                accuracy                           0.57       486\n",
            "                               macro avg       0.64      0.38      0.40       486\n",
            "                            weighted avg       0.59      0.57      0.52       486\n",
            "\n"
          ]
        }
      ]
    },
    {
      "cell_type": "markdown",
      "source": [
        "# Task C | Independent"
      ],
      "metadata": {
        "id": "9RQG413_M3Yx"
      }
    },
    {
      "cell_type": "code",
      "source": [
        "tfidf_vectorizer = TfidfVectorizer()\n",
        "\n",
        "tfidf_train_c_vectors = tfidf_vectorizer.fit_transform(train_b_and_c_df['text'])\n",
        "tfidf_eval_c_vectors = tfidf_vectorizer.transform(eval_c_df['text'])"
      ],
      "metadata": {
        "id": "2k0os_qRM3Y5"
      },
      "execution_count": null,
      "outputs": []
    },
    {
      "cell_type": "markdown",
      "source": [
        "**SVC**"
      ],
      "metadata": {
        "id": "OJxEFvyjlcPD"
      }
    },
    {
      "cell_type": "code",
      "source": [
        "svc_classifier.fit(tfidf_train_c_vectors,train_b_and_c_df['label_vector'])"
      ],
      "metadata": {
        "colab": {
          "base_uri": "https://localhost:8080/"
        },
        "outputId": "48488b84-84da-4341-bbaf-baac8449c5e1",
        "id": "NJQK76EpM3Y5"
      },
      "execution_count": null,
      "outputs": [
        {
          "output_type": "execute_result",
          "data": {
            "text/plain": [
              "SVC(random_state=42)"
            ]
          },
          "metadata": {},
          "execution_count": 44
        }
      ]
    },
    {
      "cell_type": "code",
      "source": [
        "svc_tfidf_y_c_pred = svc_classifier.predict(tfidf_eval_c_vectors)"
      ],
      "metadata": {
        "id": "2kHjijvxM3Y6"
      },
      "execution_count": null,
      "outputs": []
    },
    {
      "cell_type": "code",
      "source": [
        "print(classification_report(labels_c,svc_tfidf_y_c_pred))"
      ],
      "metadata": {
        "colab": {
          "base_uri": "https://localhost:8080/"
        },
        "outputId": "9cfe715f-03ea-4c99-cd77-d521a37352b2",
        "id": "QZbG0TBfM3Y6"
      },
      "execution_count": null,
      "outputs": [
        {
          "output_type": "stream",
          "name": "stdout",
          "text": [
            "                                                                 precision    recall  f1-score   support\n",
            "\n",
            "                                            1.1 threats of harm       0.00      0.00      0.00         8\n",
            "                       1.2 incitement and encouragement of harm       0.67      0.17      0.27        36\n",
            "                                        2.1 descriptive attacks       0.32      0.80      0.46       102\n",
            "                             2.2 aggressive and emotive attacks       0.37      0.46      0.41        96\n",
            "        2.3 dehumanising attacks & overt sexual objectification       0.00      0.00      0.00        29\n",
            "     3.1 casual use of gendered slurs, profanities, and insults       0.52      0.53      0.52        91\n",
            "        3.2 immutable gender differences and gender stereotypes       0.40      0.07      0.11        60\n",
            "                            3.3 backhanded gendered compliments       0.00      0.00      0.00         9\n",
            "             3.4 condescending explanations or unwelcome advice       0.00      0.00      0.00         7\n",
            "                4.1 supporting mistreatment of individual women       0.00      0.00      0.00        11\n",
            "4.2 supporting systemic discrimination against women as a group       1.00      0.05      0.10        37\n",
            "\n",
            "                                                       accuracy                           0.38       486\n",
            "                                                      macro avg       0.30      0.19      0.17       486\n",
            "                                                   weighted avg       0.41      0.38      0.32       486\n",
            "\n"
          ]
        },
        {
          "output_type": "stream",
          "name": "stderr",
          "text": [
            "/usr/local/lib/python3.8/dist-packages/sklearn/metrics/_classification.py:1318: UndefinedMetricWarning: Precision and F-score are ill-defined and being set to 0.0 in labels with no predicted samples. Use `zero_division` parameter to control this behavior.\n",
            "  _warn_prf(average, modifier, msg_start, len(result))\n",
            "/usr/local/lib/python3.8/dist-packages/sklearn/metrics/_classification.py:1318: UndefinedMetricWarning: Precision and F-score are ill-defined and being set to 0.0 in labels with no predicted samples. Use `zero_division` parameter to control this behavior.\n",
            "  _warn_prf(average, modifier, msg_start, len(result))\n",
            "/usr/local/lib/python3.8/dist-packages/sklearn/metrics/_classification.py:1318: UndefinedMetricWarning: Precision and F-score are ill-defined and being set to 0.0 in labels with no predicted samples. Use `zero_division` parameter to control this behavior.\n",
            "  _warn_prf(average, modifier, msg_start, len(result))\n"
          ]
        }
      ]
    },
    {
      "cell_type": "markdown",
      "source": [
        "**Logistic Regression**"
      ],
      "metadata": {
        "id": "k4ERO0tnlmfp"
      }
    },
    {
      "cell_type": "code",
      "source": [
        "# test on train\n",
        "# lr_classifier.fit(tfidf_train_c_vectors,train_b_and_c_df['label_vector'])\n",
        "# lr_tfidf_y_c_pred = lr_classifier.predict(tfidf_train_c_vectors)\n",
        "# print(classification_report(train_b_and_c_df['label_vector'],lr_tfidf_y_c_pred))"
      ],
      "metadata": {
        "colab": {
          "base_uri": "https://localhost:8080/"
        },
        "id": "Zv4rLxNCBxb_",
        "outputId": "c61f4bb4-f435-4a0a-972e-012885caba07"
      },
      "execution_count": null,
      "outputs": [
        {
          "output_type": "stream",
          "name": "stdout",
          "text": [
            "                                                                 precision    recall  f1-score   support\n",
            "\n",
            "                                            1.1 threats of harm       0.00      0.00      0.00        56\n",
            "                       1.2 incitement and encouragement of harm       0.82      0.62      0.71       254\n",
            "                                        2.1 descriptive attacks       0.60      0.93      0.73       717\n",
            "                             2.2 aggressive and emotive attacks       0.73      0.87      0.79       673\n",
            "        2.3 dehumanising attacks & overt sexual objectification       1.00      0.18      0.31       200\n",
            "     3.1 casual use of gendered slurs, profanities, and insults       0.75      0.90      0.82       637\n",
            "        3.2 immutable gender differences and gender stereotypes       0.85      0.72      0.78       417\n",
            "                            3.3 backhanded gendered compliments       0.00      0.00      0.00        64\n",
            "             3.4 condescending explanations or unwelcome advice       0.00      0.00      0.00        47\n",
            "                4.1 supporting mistreatment of individual women       1.00      0.05      0.10        75\n",
            "4.2 supporting systemic discrimination against women as a group       0.95      0.51      0.66       258\n",
            "\n",
            "                                                       accuracy                           0.72      3398\n",
            "                                                      macro avg       0.61      0.43      0.44      3398\n",
            "                                                   weighted avg       0.73      0.72      0.68      3398\n",
            "\n"
          ]
        },
        {
          "output_type": "stream",
          "name": "stderr",
          "text": [
            "/usr/local/lib/python3.8/dist-packages/sklearn/metrics/_classification.py:1318: UndefinedMetricWarning: Precision and F-score are ill-defined and being set to 0.0 in labels with no predicted samples. Use `zero_division` parameter to control this behavior.\n",
            "  _warn_prf(average, modifier, msg_start, len(result))\n",
            "/usr/local/lib/python3.8/dist-packages/sklearn/metrics/_classification.py:1318: UndefinedMetricWarning: Precision and F-score are ill-defined and being set to 0.0 in labels with no predicted samples. Use `zero_division` parameter to control this behavior.\n",
            "  _warn_prf(average, modifier, msg_start, len(result))\n",
            "/usr/local/lib/python3.8/dist-packages/sklearn/metrics/_classification.py:1318: UndefinedMetricWarning: Precision and F-score are ill-defined and being set to 0.0 in labels with no predicted samples. Use `zero_division` parameter to control this behavior.\n",
            "  _warn_prf(average, modifier, msg_start, len(result))\n"
          ]
        }
      ]
    },
    {
      "cell_type": "code",
      "source": [
        "lr_classifier.fit(tfidf_train_c_vectors,train_b_and_c_df['label_vector'])\n",
        "lr_tfidf_y_c_pred = lr_classifier.predict(tfidf_eval_c_vectors)\n",
        "print(classification_report(labels_c,lr_tfidf_y_c_pred))"
      ],
      "metadata": {
        "colab": {
          "base_uri": "https://localhost:8080/"
        },
        "id": "_6logkemlps3",
        "outputId": "fa78d21d-bded-4049-d3c4-d696ab05a026"
      },
      "execution_count": null,
      "outputs": [
        {
          "output_type": "stream",
          "name": "stdout",
          "text": [
            "                                                                 precision    recall  f1-score   support\n",
            "\n",
            "                                            1.1 threats of harm       0.00      0.00      0.00         8\n",
            "                       1.2 incitement and encouragement of harm       0.67      0.33      0.44        36\n",
            "                                        2.1 descriptive attacks       0.34      0.74      0.47       102\n",
            "                             2.2 aggressive and emotive attacks       0.39      0.43      0.41        96\n",
            "        2.3 dehumanising attacks & overt sexual objectification       0.50      0.03      0.06        29\n",
            "     3.1 casual use of gendered slurs, profanities, and insults       0.50      0.58      0.54        91\n",
            "        3.2 immutable gender differences and gender stereotypes       0.38      0.20      0.26        60\n",
            "                            3.3 backhanded gendered compliments       0.00      0.00      0.00         9\n",
            "             3.4 condescending explanations or unwelcome advice       0.00      0.00      0.00         7\n",
            "                4.1 supporting mistreatment of individual women       0.00      0.00      0.00        11\n",
            "4.2 supporting systemic discrimination against women as a group       0.75      0.08      0.15        37\n",
            "\n",
            "                                                       accuracy                           0.41       486\n",
            "                                                      macro avg       0.32      0.22      0.21       486\n",
            "                                                   weighted avg       0.43      0.41      0.36       486\n",
            "\n"
          ]
        },
        {
          "output_type": "stream",
          "name": "stderr",
          "text": [
            "/usr/local/lib/python3.8/dist-packages/sklearn/metrics/_classification.py:1318: UndefinedMetricWarning: Precision and F-score are ill-defined and being set to 0.0 in labels with no predicted samples. Use `zero_division` parameter to control this behavior.\n",
            "  _warn_prf(average, modifier, msg_start, len(result))\n",
            "/usr/local/lib/python3.8/dist-packages/sklearn/metrics/_classification.py:1318: UndefinedMetricWarning: Precision and F-score are ill-defined and being set to 0.0 in labels with no predicted samples. Use `zero_division` parameter to control this behavior.\n",
            "  _warn_prf(average, modifier, msg_start, len(result))\n",
            "/usr/local/lib/python3.8/dist-packages/sklearn/metrics/_classification.py:1318: UndefinedMetricWarning: Precision and F-score are ill-defined and being set to 0.0 in labels with no predicted samples. Use `zero_division` parameter to control this behavior.\n",
            "  _warn_prf(average, modifier, msg_start, len(result))\n"
          ]
        }
      ]
    },
    {
      "cell_type": "markdown",
      "source": [
        "# Task C | Hierarchical"
      ],
      "metadata": {
        "id": "V2qJ6C3QmQJP"
      }
    },
    {
      "cell_type": "code",
      "source": [
        "grouped = train_b_and_c_df.groupby('label_category')\n",
        "\n",
        "df_list = []\n",
        "for group in grouped:\n",
        "    df = group[1]\n",
        "    df_list.append(df)"
      ],
      "metadata": {
        "id": "lJvorauKqrDe"
      },
      "execution_count": null,
      "outputs": []
    },
    {
      "cell_type": "code",
      "source": [
        "# category 0 classifier:\n",
        "tfidf_0_c_vectors = tfidf_vectorizer.transform(df_list[0]['text'])\n",
        "lr_0 = LogisticRegression(random_state=42)\n",
        "lr_0.fit(tfidf_0_c_vectors,df_list[0]['label_vector'])\n",
        "\n",
        "# category 1 classifier:\n",
        "tfidf_1_c_vectors = tfidf_vectorizer.transform(df_list[1]['text'])\n",
        "lr_1 = LogisticRegression(random_state=42)\n",
        "lr_1.fit(tfidf_1_c_vectors,df_list[1]['label_vector'])\n",
        "\n",
        "# category 2 classifier:\n",
        "tfidf_2_c_vectors = tfidf_vectorizer.transform(df_list[2]['text'])\n",
        "lr_2 = LogisticRegression(random_state=42)\n",
        "lr_2.fit(tfidf_2_c_vectors,df_list[2]['label_vector'])\n",
        "\n",
        "# category 3 classifier:\n",
        "tfidf_3_c_vectors = tfidf_vectorizer.transform(df_list[3]['text'])\n",
        "lr_3 = LogisticRegression(random_state=42)\n",
        "lr_3.fit(tfidf_3_c_vectors,df_list[3]['label_vector'])\n"
      ],
      "metadata": {
        "colab": {
          "base_uri": "https://localhost:8080/"
        },
        "id": "pLi9csvamY2R",
        "outputId": "f525e3ea-2d2b-41a0-bf85-4c3de74d6206"
      },
      "execution_count": null,
      "outputs": [
        {
          "output_type": "execute_result",
          "data": {
            "text/plain": [
              "LogisticRegression(random_state=42)"
            ]
          },
          "metadata": {},
          "execution_count": 122
        }
      ]
    },
    {
      "cell_type": "code",
      "source": [
        "predictions_df = pd.DataFrame()\n",
        "predictions_df['rewire_id'] = eval_b_df['rewire_id']\n",
        "predictions_df['text'] = eval_b_df['text']\n",
        "predictions_df['label'] = lr_tfidf_y_b_pred"
      ],
      "metadata": {
        "id": "G4LpkxYbENY1"
      },
      "execution_count": null,
      "outputs": []
    },
    {
      "cell_type": "code",
      "source": [
        "predictions_df.head()"
      ],
      "metadata": {
        "colab": {
          "base_uri": "https://localhost:8080/",
          "height": 203
        },
        "id": "u51BCN98NCjv",
        "outputId": "240d7b43-30d4-4343-9cfe-2eaf558230c1"
      },
      "execution_count": null,
      "outputs": [
        {
          "output_type": "execute_result",
          "data": {
            "text/plain": [
              "                  rewire_id  \\\n",
              "0    sexism2022_english-739   \n",
              "1  sexism2022_english-10787   \n",
              "2  sexism2022_english-18547   \n",
              "3   sexism2022_english-6425   \n",
              "4  sexism2022_english-10001   \n",
              "\n",
              "                                                text  \\\n",
              "0  Every woman wants to be a model. It's codeword...   \n",
              "1  Poor dude hasn't realized you dont share emoti...   \n",
              "2  Can women be loyal? If you make them loyal. Ju...   \n",
              "3  Lefties; we haven’t been outraged for an hour....   \n",
              "4  That slag has some nerve showing her face. Bit...   \n",
              "\n",
              "                                      label  \n",
              "0                             2. derogation  \n",
              "1                              3. animosity  \n",
              "2                             2. derogation  \n",
              "3  1. threats, plans to harm and incitement  \n",
              "4                              3. animosity  "
            ],
            "text/html": [
              "\n",
              "  <div id=\"df-15730a4b-40be-459c-b2af-28b66364b4d1\">\n",
              "    <div class=\"colab-df-container\">\n",
              "      <div>\n",
              "<style scoped>\n",
              "    .dataframe tbody tr th:only-of-type {\n",
              "        vertical-align: middle;\n",
              "    }\n",
              "\n",
              "    .dataframe tbody tr th {\n",
              "        vertical-align: top;\n",
              "    }\n",
              "\n",
              "    .dataframe thead th {\n",
              "        text-align: right;\n",
              "    }\n",
              "</style>\n",
              "<table border=\"1\" class=\"dataframe\">\n",
              "  <thead>\n",
              "    <tr style=\"text-align: right;\">\n",
              "      <th></th>\n",
              "      <th>rewire_id</th>\n",
              "      <th>text</th>\n",
              "      <th>label</th>\n",
              "    </tr>\n",
              "  </thead>\n",
              "  <tbody>\n",
              "    <tr>\n",
              "      <th>0</th>\n",
              "      <td>sexism2022_english-739</td>\n",
              "      <td>Every woman wants to be a model. It's codeword...</td>\n",
              "      <td>2. derogation</td>\n",
              "    </tr>\n",
              "    <tr>\n",
              "      <th>1</th>\n",
              "      <td>sexism2022_english-10787</td>\n",
              "      <td>Poor dude hasn't realized you dont share emoti...</td>\n",
              "      <td>3. animosity</td>\n",
              "    </tr>\n",
              "    <tr>\n",
              "      <th>2</th>\n",
              "      <td>sexism2022_english-18547</td>\n",
              "      <td>Can women be loyal? If you make them loyal. Ju...</td>\n",
              "      <td>2. derogation</td>\n",
              "    </tr>\n",
              "    <tr>\n",
              "      <th>3</th>\n",
              "      <td>sexism2022_english-6425</td>\n",
              "      <td>Lefties; we haven’t been outraged for an hour....</td>\n",
              "      <td>1. threats, plans to harm and incitement</td>\n",
              "    </tr>\n",
              "    <tr>\n",
              "      <th>4</th>\n",
              "      <td>sexism2022_english-10001</td>\n",
              "      <td>That slag has some nerve showing her face. Bit...</td>\n",
              "      <td>3. animosity</td>\n",
              "    </tr>\n",
              "  </tbody>\n",
              "</table>\n",
              "</div>\n",
              "      <button class=\"colab-df-convert\" onclick=\"convertToInteractive('df-15730a4b-40be-459c-b2af-28b66364b4d1')\"\n",
              "              title=\"Convert this dataframe to an interactive table.\"\n",
              "              style=\"display:none;\">\n",
              "        \n",
              "  <svg xmlns=\"http://www.w3.org/2000/svg\" height=\"24px\"viewBox=\"0 0 24 24\"\n",
              "       width=\"24px\">\n",
              "    <path d=\"M0 0h24v24H0V0z\" fill=\"none\"/>\n",
              "    <path d=\"M18.56 5.44l.94 2.06.94-2.06 2.06-.94-2.06-.94-.94-2.06-.94 2.06-2.06.94zm-11 1L8.5 8.5l.94-2.06 2.06-.94-2.06-.94L8.5 2.5l-.94 2.06-2.06.94zm10 10l.94 2.06.94-2.06 2.06-.94-2.06-.94-.94-2.06-.94 2.06-2.06.94z\"/><path d=\"M17.41 7.96l-1.37-1.37c-.4-.4-.92-.59-1.43-.59-.52 0-1.04.2-1.43.59L10.3 9.45l-7.72 7.72c-.78.78-.78 2.05 0 2.83L4 21.41c.39.39.9.59 1.41.59.51 0 1.02-.2 1.41-.59l7.78-7.78 2.81-2.81c.8-.78.8-2.07 0-2.86zM5.41 20L4 18.59l7.72-7.72 1.47 1.35L5.41 20z\"/>\n",
              "  </svg>\n",
              "      </button>\n",
              "      \n",
              "  <style>\n",
              "    .colab-df-container {\n",
              "      display:flex;\n",
              "      flex-wrap:wrap;\n",
              "      gap: 12px;\n",
              "    }\n",
              "\n",
              "    .colab-df-convert {\n",
              "      background-color: #E8F0FE;\n",
              "      border: none;\n",
              "      border-radius: 50%;\n",
              "      cursor: pointer;\n",
              "      display: none;\n",
              "      fill: #1967D2;\n",
              "      height: 32px;\n",
              "      padding: 0 0 0 0;\n",
              "      width: 32px;\n",
              "    }\n",
              "\n",
              "    .colab-df-convert:hover {\n",
              "      background-color: #E2EBFA;\n",
              "      box-shadow: 0px 1px 2px rgba(60, 64, 67, 0.3), 0px 1px 3px 1px rgba(60, 64, 67, 0.15);\n",
              "      fill: #174EA6;\n",
              "    }\n",
              "\n",
              "    [theme=dark] .colab-df-convert {\n",
              "      background-color: #3B4455;\n",
              "      fill: #D2E3FC;\n",
              "    }\n",
              "\n",
              "    [theme=dark] .colab-df-convert:hover {\n",
              "      background-color: #434B5C;\n",
              "      box-shadow: 0px 1px 3px 1px rgba(0, 0, 0, 0.15);\n",
              "      filter: drop-shadow(0px 1px 2px rgba(0, 0, 0, 0.3));\n",
              "      fill: #FFFFFF;\n",
              "    }\n",
              "  </style>\n",
              "\n",
              "      <script>\n",
              "        const buttonEl =\n",
              "          document.querySelector('#df-15730a4b-40be-459c-b2af-28b66364b4d1 button.colab-df-convert');\n",
              "        buttonEl.style.display =\n",
              "          google.colab.kernel.accessAllowed ? 'block' : 'none';\n",
              "\n",
              "        async function convertToInteractive(key) {\n",
              "          const element = document.querySelector('#df-15730a4b-40be-459c-b2af-28b66364b4d1');\n",
              "          const dataTable =\n",
              "            await google.colab.kernel.invokeFunction('convertToInteractive',\n",
              "                                                     [key], {});\n",
              "          if (!dataTable) return;\n",
              "\n",
              "          const docLinkHtml = 'Like what you see? Visit the ' +\n",
              "            '<a target=\"_blank\" href=https://colab.research.google.com/notebooks/data_table.ipynb>data table notebook</a>'\n",
              "            + ' to learn more about interactive tables.';\n",
              "          element.innerHTML = '';\n",
              "          dataTable['output_type'] = 'display_data';\n",
              "          await google.colab.output.renderOutput(dataTable, element);\n",
              "          const docLink = document.createElement('div');\n",
              "          docLink.innerHTML = docLinkHtml;\n",
              "          element.appendChild(docLink);\n",
              "        }\n",
              "      </script>\n",
              "    </div>\n",
              "  </div>\n",
              "  "
            ]
          },
          "metadata": {},
          "execution_count": 136
        }
      ]
    },
    {
      "cell_type": "code",
      "source": [
        "c_predictions = []\n",
        "for row in predictions_df.iterrows():\n",
        "    vector = tfidf_vectorizer.transform([row[1]['text']])\n",
        "    if \"1\" in row[1]['label']:\n",
        "        prediction = lr_0.predict(vector)\n",
        "        prediction = prediction[0]\n",
        "        c_predictions.append(prediction)\n",
        "    elif \"2\" in row[1]['label']:\n",
        "        prediction = lr_1.predict(vector)\n",
        "        prediction = prediction[0]\n",
        "        c_predictions.append(prediction)\n",
        "    elif \"3\" in row[1]['label']:\n",
        "        prediction = lr_2.predict(vector)\n",
        "        prediction = prediction[0]\n",
        "        c_predictions.append(prediction)\n",
        "    elif \"4\" in row[1]['label']:\n",
        "        prediction = lr_3.predict(vector)\n",
        "        prediction = prediction[0]\n",
        "        c_predictions.append(prediction)\n",
        "    else:\n",
        "        print(\"chi?\")"
      ],
      "metadata": {
        "id": "3FbqMz8GJR_s"
      },
      "execution_count": null,
      "outputs": []
    },
    {
      "cell_type": "code",
      "source": [
        "print(classification_report(labels_c,c_predictions))"
      ],
      "metadata": {
        "colab": {
          "base_uri": "https://localhost:8080/"
        },
        "id": "J6hPG_0GX6W3",
        "outputId": "584745bd-abc7-4946-d14d-03a70e67320a"
      },
      "execution_count": null,
      "outputs": [
        {
          "output_type": "stream",
          "name": "stdout",
          "text": [
            "                                                                 precision    recall  f1-score   support\n",
            "\n",
            "                                            1.1 threats of harm       0.00      0.00      0.00         8\n",
            "                       1.2 incitement and encouragement of harm       0.77      0.28      0.41        36\n",
            "                                        2.1 descriptive attacks       0.36      0.76      0.49       102\n",
            "                             2.2 aggressive and emotive attacks       0.38      0.49      0.43        96\n",
            "        2.3 dehumanising attacks & overt sexual objectification       1.00      0.03      0.07        29\n",
            "     3.1 casual use of gendered slurs, profanities, and insults       0.48      0.51      0.49        91\n",
            "        3.2 immutable gender differences and gender stereotypes       0.35      0.18      0.24        60\n",
            "                            3.3 backhanded gendered compliments       0.00      0.00      0.00         9\n",
            "             3.4 condescending explanations or unwelcome advice       0.00      0.00      0.00         7\n",
            "                4.1 supporting mistreatment of individual women       0.00      0.00      0.00        11\n",
            "4.2 supporting systemic discrimination against women as a group       0.67      0.05      0.10        37\n",
            "\n",
            "                                                       accuracy                           0.40       486\n",
            "                                                      macro avg       0.36      0.21      0.20       486\n",
            "                                                   weighted avg       0.45      0.40      0.35       486\n",
            "\n"
          ]
        },
        {
          "output_type": "stream",
          "name": "stderr",
          "text": [
            "/usr/local/lib/python3.8/dist-packages/sklearn/metrics/_classification.py:1318: UndefinedMetricWarning: Precision and F-score are ill-defined and being set to 0.0 in labels with no predicted samples. Use `zero_division` parameter to control this behavior.\n",
            "  _warn_prf(average, modifier, msg_start, len(result))\n",
            "/usr/local/lib/python3.8/dist-packages/sklearn/metrics/_classification.py:1318: UndefinedMetricWarning: Precision and F-score are ill-defined and being set to 0.0 in labels with no predicted samples. Use `zero_division` parameter to control this behavior.\n",
            "  _warn_prf(average, modifier, msg_start, len(result))\n",
            "/usr/local/lib/python3.8/dist-packages/sklearn/metrics/_classification.py:1318: UndefinedMetricWarning: Precision and F-score are ill-defined and being set to 0.0 in labels with no predicted samples. Use `zero_division` parameter to control this behavior.\n",
            "  _warn_prf(average, modifier, msg_start, len(result))\n"
          ]
        }
      ]
    },
    {
      "cell_type": "markdown",
      "source": [
        "**Assuming the previous step was done right.**"
      ],
      "metadata": {
        "id": "kD1VjX-Ifrr4"
      }
    },
    {
      "cell_type": "code",
      "source": [
        "test_c_predictions = []\n",
        "for row in eval_b_df.iterrows():\n",
        "    vector = tfidf_vectorizer.transform([row[1]['text']])\n",
        "    if \"1\" in row[1]['label']:\n",
        "        prediction = lr_0.predict(vector)\n",
        "        prediction = prediction[0]\n",
        "        test_c_predictions.append(prediction)\n",
        "    elif \"2\" in row[1]['label']:\n",
        "        prediction = lr_1.predict(vector)\n",
        "        prediction = prediction[0]\n",
        "        test_c_predictions.append(prediction)\n",
        "    elif \"3\" in row[1]['label']:\n",
        "        prediction = lr_2.predict(vector)\n",
        "        prediction = prediction[0]\n",
        "        test_c_predictions.append(prediction)\n",
        "    elif \"4\" in row[1]['label']:\n",
        "        prediction = lr_3.predict(vector)\n",
        "        prediction = prediction[0]\n",
        "        test_c_predictions.append(prediction)\n",
        "    else:\n",
        "        print(\"chi?\")\n",
        "print(classification_report(labels_c,test_c_predictions, zero_division = \"warn\"))"
      ],
      "metadata": {
        "colab": {
          "base_uri": "https://localhost:8080/"
        },
        "outputId": "22f71f46-3ccc-4352-98d9-119741205bbd",
        "id": "Pn2XPS9emfKD"
      },
      "execution_count": null,
      "outputs": [
        {
          "output_type": "stream",
          "name": "stdout",
          "text": [
            "                                                                 precision    recall  f1-score   support\n",
            "\n",
            "                                            1.1 threats of harm       0.00      0.00      0.00         8\n",
            "                       1.2 incitement and encouragement of harm       0.82      1.00      0.90        36\n",
            "                                        2.1 descriptive attacks       0.60      0.79      0.68       102\n",
            "                             2.2 aggressive and emotive attacks       0.66      0.61      0.63        96\n",
            "        2.3 dehumanising attacks & overt sexual objectification       1.00      0.03      0.07        29\n",
            "     3.1 casual use of gendered slurs, profanities, and insults       0.72      0.92      0.81        91\n",
            "        3.2 immutable gender differences and gender stereotypes       0.72      0.60      0.65        60\n",
            "                            3.3 backhanded gendered compliments       0.00      0.00      0.00         9\n",
            "             3.4 condescending explanations or unwelcome advice       0.00      0.00      0.00         7\n",
            "                4.1 supporting mistreatment of individual women       0.00      0.00      0.00        11\n",
            "4.2 supporting systemic discrimination against women as a group       0.77      1.00      0.87        37\n",
            "\n",
            "                                                       accuracy                           0.69       486\n",
            "                                                      macro avg       0.48      0.45      0.42       486\n",
            "                                                   weighted avg       0.66      0.69      0.64       486\n",
            "\n"
          ]
        },
        {
          "output_type": "stream",
          "name": "stderr",
          "text": [
            "/usr/local/lib/python3.8/dist-packages/sklearn/metrics/_classification.py:1318: UndefinedMetricWarning: Precision and F-score are ill-defined and being set to 0.0 in labels with no predicted samples. Use `zero_division` parameter to control this behavior.\n",
            "  _warn_prf(average, modifier, msg_start, len(result))\n",
            "/usr/local/lib/python3.8/dist-packages/sklearn/metrics/_classification.py:1318: UndefinedMetricWarning: Precision and F-score are ill-defined and being set to 0.0 in labels with no predicted samples. Use `zero_division` parameter to control this behavior.\n",
            "  _warn_prf(average, modifier, msg_start, len(result))\n",
            "/usr/local/lib/python3.8/dist-packages/sklearn/metrics/_classification.py:1318: UndefinedMetricWarning: Precision and F-score are ill-defined and being set to 0.0 in labels with no predicted samples. Use `zero_division` parameter to control this behavior.\n",
            "  _warn_prf(average, modifier, msg_start, len(result))\n"
          ]
        }
      ]
    },
    {
      "cell_type": "markdown",
      "source": [
        "# Task C | Hierarchical | \"*Others*\" tag added"
      ],
      "metadata": {
        "id": "QrAJKxGQmfJ3"
      }
    },
    {
      "cell_type": "code",
      "source": [
        "grouped = train_b_and_c_df.groupby('label_category')\n",
        "\n",
        "df_list = []\n",
        "for group in grouped:\n",
        "    df = group[1]\n",
        "    df_list.append(df)"
      ],
      "metadata": {
        "id": "KFqhaKJBmfKB"
      },
      "execution_count": null,
      "outputs": []
    },
    {
      "cell_type": "code",
      "source": [
        "# grouped_eval = eval_b_df.groupby('label')\n",
        "# df_eval_list = []\n",
        "# for group in grouped_eval:\n",
        "#     df = group[1]\n",
        "#     df = pd.merge(df, eval_c_df, on = \"rewire_id\").drop('text_y', axis=1)\n",
        "#     df = df.rename(columns={'text_x': 'text'})\n",
        "#     df_eval_list.append(df)"
      ],
      "metadata": {
        "id": "etZbG5zYGXOT"
      },
      "execution_count": null,
      "outputs": []
    },
    {
      "cell_type": "code",
      "source": [
        "complement_df_list = []\n",
        "resample_num = []\n",
        "for index, df in enumerate(df_list):\n",
        "    entries_num = df.groupby('label_vector').size()\n",
        "    average = int(sum(entries_num) / len(entries_num))\n",
        "    resample_num.append(average)\n",
        "    complement_df = train_b_and_c_df[~train_b_and_c_df.isin(df).all(1)]\n",
        "    complement_df_list.append(complement_df)\n",
        "    random_rows = complement_df.sample(n=average, random_state=42)\n",
        "    random_rows.loc[:, 'label_vector'] = 'others'\n",
        "    df = df.append(random_rows, ignore_index=True)\n",
        "    df_list[index] = df.sample(frac=1, random_state=42)"
      ],
      "metadata": {
        "id": "1K41FHdR6lgx"
      },
      "execution_count": null,
      "outputs": []
    },
    {
      "cell_type": "code",
      "source": [
        "# category 0 classifier:\n",
        "tfidf_0_c_vectors = tfidf_vectorizer.transform(df_list[0]['text'])\n",
        "lr_0 = LogisticRegression(random_state=42)\n",
        "lr_0.fit(tfidf_0_c_vectors,df_list[0]['label_vector'])\n",
        "\n",
        "# category 1 classifier:\n",
        "tfidf_1_c_vectors = tfidf_vectorizer.transform(df_list[1]['text'])\n",
        "lr_1 = LogisticRegression(random_state=42)\n",
        "lr_1.fit(tfidf_1_c_vectors,df_list[1]['label_vector'])\n",
        "\n",
        "# category 2 classifier:\n",
        "tfidf_2_c_vectors = tfidf_vectorizer.transform(df_list[2]['text'])\n",
        "lr_2 = LogisticRegression(random_state=42)\n",
        "lr_2.fit(tfidf_2_c_vectors,df_list[2]['label_vector'])\n",
        "\n",
        "# category 3 classifier:\n",
        "tfidf_3_c_vectors = tfidf_vectorizer.transform(df_list[3]['text'])\n",
        "lr_3 = LogisticRegression(random_state=42)\n",
        "lr_3.fit(tfidf_3_c_vectors,df_list[3]['label_vector'])\n"
      ],
      "metadata": {
        "colab": {
          "base_uri": "https://localhost:8080/"
        },
        "outputId": "4b687ef7-6f17-44ba-b341-bcb0639fd6b0",
        "id": "sdx_eWi6mfKB"
      },
      "execution_count": null,
      "outputs": [
        {
          "output_type": "execute_result",
          "data": {
            "text/plain": [
              "LogisticRegression(random_state=42)"
            ]
          },
          "metadata": {},
          "execution_count": 28
        }
      ]
    },
    {
      "cell_type": "code",
      "source": [
        "predictions_df = pd.DataFrame()\n",
        "predictions_df['rewire_id'] = eval_b_df['rewire_id']\n",
        "predictions_df['text'] = eval_b_df['text']\n",
        "predictions_df['label'] = lr_tfidf_y_b_pred"
      ],
      "metadata": {
        "id": "0PL2h_aZmfKC"
      },
      "execution_count": null,
      "outputs": []
    },
    {
      "cell_type": "code",
      "source": [
        "predictions_df.head()"
      ],
      "metadata": {
        "colab": {
          "base_uri": "https://localhost:8080/",
          "height": 203
        },
        "outputId": "63da7f67-3561-4d9f-93b6-c7722910bc9b",
        "id": "HiAmSZzcmfKC"
      },
      "execution_count": null,
      "outputs": [
        {
          "output_type": "execute_result",
          "data": {
            "text/plain": [
              "                  rewire_id  \\\n",
              "0    sexism2022_english-739   \n",
              "1  sexism2022_english-10787   \n",
              "2  sexism2022_english-18547   \n",
              "3   sexism2022_english-6425   \n",
              "4  sexism2022_english-10001   \n",
              "\n",
              "                                                text  \\\n",
              "0  Every woman wants to be a model. It's codeword...   \n",
              "1  Poor dude hasn't realized you dont share emoti...   \n",
              "2  Can women be loyal? If you make them loyal. Ju...   \n",
              "3  Lefties; we haven’t been outraged for an hour....   \n",
              "4  That slag has some nerve showing her face. Bit...   \n",
              "\n",
              "                                      label  \n",
              "0                             2. derogation  \n",
              "1                              3. animosity  \n",
              "2                             2. derogation  \n",
              "3  1. threats, plans to harm and incitement  \n",
              "4                              3. animosity  "
            ],
            "text/html": [
              "\n",
              "  <div id=\"df-fc14f14f-add4-4cb6-9abd-b7a4016dd821\">\n",
              "    <div class=\"colab-df-container\">\n",
              "      <div>\n",
              "<style scoped>\n",
              "    .dataframe tbody tr th:only-of-type {\n",
              "        vertical-align: middle;\n",
              "    }\n",
              "\n",
              "    .dataframe tbody tr th {\n",
              "        vertical-align: top;\n",
              "    }\n",
              "\n",
              "    .dataframe thead th {\n",
              "        text-align: right;\n",
              "    }\n",
              "</style>\n",
              "<table border=\"1\" class=\"dataframe\">\n",
              "  <thead>\n",
              "    <tr style=\"text-align: right;\">\n",
              "      <th></th>\n",
              "      <th>rewire_id</th>\n",
              "      <th>text</th>\n",
              "      <th>label</th>\n",
              "    </tr>\n",
              "  </thead>\n",
              "  <tbody>\n",
              "    <tr>\n",
              "      <th>0</th>\n",
              "      <td>sexism2022_english-739</td>\n",
              "      <td>Every woman wants to be a model. It's codeword...</td>\n",
              "      <td>2. derogation</td>\n",
              "    </tr>\n",
              "    <tr>\n",
              "      <th>1</th>\n",
              "      <td>sexism2022_english-10787</td>\n",
              "      <td>Poor dude hasn't realized you dont share emoti...</td>\n",
              "      <td>3. animosity</td>\n",
              "    </tr>\n",
              "    <tr>\n",
              "      <th>2</th>\n",
              "      <td>sexism2022_english-18547</td>\n",
              "      <td>Can women be loyal? If you make them loyal. Ju...</td>\n",
              "      <td>2. derogation</td>\n",
              "    </tr>\n",
              "    <tr>\n",
              "      <th>3</th>\n",
              "      <td>sexism2022_english-6425</td>\n",
              "      <td>Lefties; we haven’t been outraged for an hour....</td>\n",
              "      <td>1. threats, plans to harm and incitement</td>\n",
              "    </tr>\n",
              "    <tr>\n",
              "      <th>4</th>\n",
              "      <td>sexism2022_english-10001</td>\n",
              "      <td>That slag has some nerve showing her face. Bit...</td>\n",
              "      <td>3. animosity</td>\n",
              "    </tr>\n",
              "  </tbody>\n",
              "</table>\n",
              "</div>\n",
              "      <button class=\"colab-df-convert\" onclick=\"convertToInteractive('df-fc14f14f-add4-4cb6-9abd-b7a4016dd821')\"\n",
              "              title=\"Convert this dataframe to an interactive table.\"\n",
              "              style=\"display:none;\">\n",
              "        \n",
              "  <svg xmlns=\"http://www.w3.org/2000/svg\" height=\"24px\"viewBox=\"0 0 24 24\"\n",
              "       width=\"24px\">\n",
              "    <path d=\"M0 0h24v24H0V0z\" fill=\"none\"/>\n",
              "    <path d=\"M18.56 5.44l.94 2.06.94-2.06 2.06-.94-2.06-.94-.94-2.06-.94 2.06-2.06.94zm-11 1L8.5 8.5l.94-2.06 2.06-.94-2.06-.94L8.5 2.5l-.94 2.06-2.06.94zm10 10l.94 2.06.94-2.06 2.06-.94-2.06-.94-.94-2.06-.94 2.06-2.06.94z\"/><path d=\"M17.41 7.96l-1.37-1.37c-.4-.4-.92-.59-1.43-.59-.52 0-1.04.2-1.43.59L10.3 9.45l-7.72 7.72c-.78.78-.78 2.05 0 2.83L4 21.41c.39.39.9.59 1.41.59.51 0 1.02-.2 1.41-.59l7.78-7.78 2.81-2.81c.8-.78.8-2.07 0-2.86zM5.41 20L4 18.59l7.72-7.72 1.47 1.35L5.41 20z\"/>\n",
              "  </svg>\n",
              "      </button>\n",
              "      \n",
              "  <style>\n",
              "    .colab-df-container {\n",
              "      display:flex;\n",
              "      flex-wrap:wrap;\n",
              "      gap: 12px;\n",
              "    }\n",
              "\n",
              "    .colab-df-convert {\n",
              "      background-color: #E8F0FE;\n",
              "      border: none;\n",
              "      border-radius: 50%;\n",
              "      cursor: pointer;\n",
              "      display: none;\n",
              "      fill: #1967D2;\n",
              "      height: 32px;\n",
              "      padding: 0 0 0 0;\n",
              "      width: 32px;\n",
              "    }\n",
              "\n",
              "    .colab-df-convert:hover {\n",
              "      background-color: #E2EBFA;\n",
              "      box-shadow: 0px 1px 2px rgba(60, 64, 67, 0.3), 0px 1px 3px 1px rgba(60, 64, 67, 0.15);\n",
              "      fill: #174EA6;\n",
              "    }\n",
              "\n",
              "    [theme=dark] .colab-df-convert {\n",
              "      background-color: #3B4455;\n",
              "      fill: #D2E3FC;\n",
              "    }\n",
              "\n",
              "    [theme=dark] .colab-df-convert:hover {\n",
              "      background-color: #434B5C;\n",
              "      box-shadow: 0px 1px 3px 1px rgba(0, 0, 0, 0.15);\n",
              "      filter: drop-shadow(0px 1px 2px rgba(0, 0, 0, 0.3));\n",
              "      fill: #FFFFFF;\n",
              "    }\n",
              "  </style>\n",
              "\n",
              "      <script>\n",
              "        const buttonEl =\n",
              "          document.querySelector('#df-fc14f14f-add4-4cb6-9abd-b7a4016dd821 button.colab-df-convert');\n",
              "        buttonEl.style.display =\n",
              "          google.colab.kernel.accessAllowed ? 'block' : 'none';\n",
              "\n",
              "        async function convertToInteractive(key) {\n",
              "          const element = document.querySelector('#df-fc14f14f-add4-4cb6-9abd-b7a4016dd821');\n",
              "          const dataTable =\n",
              "            await google.colab.kernel.invokeFunction('convertToInteractive',\n",
              "                                                     [key], {});\n",
              "          if (!dataTable) return;\n",
              "\n",
              "          const docLinkHtml = 'Like what you see? Visit the ' +\n",
              "            '<a target=\"_blank\" href=https://colab.research.google.com/notebooks/data_table.ipynb>data table notebook</a>'\n",
              "            + ' to learn more about interactive tables.';\n",
              "          element.innerHTML = '';\n",
              "          dataTable['output_type'] = 'display_data';\n",
              "          await google.colab.output.renderOutput(dataTable, element);\n",
              "          const docLink = document.createElement('div');\n",
              "          docLink.innerHTML = docLinkHtml;\n",
              "          element.appendChild(docLink);\n",
              "        }\n",
              "      </script>\n",
              "    </div>\n",
              "  </div>\n",
              "  "
            ]
          },
          "metadata": {},
          "execution_count": 30
        }
      ]
    },
    {
      "cell_type": "code",
      "source": [
        "c_predictions = []\n",
        "other_num = [0, 0, 0, 0]\n",
        "for row in predictions_df.iterrows():\n",
        "    vector = tfidf_vectorizer.transform([row[1]['text']])\n",
        "    if \"1\" in row[1]['label']:\n",
        "        prediction = lr_0.predict(vector)\n",
        "        prediction = prediction[0]\n",
        "        if prediction == \"others\":\n",
        "            other_num[0]+=1\n",
        "        c_predictions.append(prediction)\n",
        "    elif \"2\" in row[1]['label']:\n",
        "        prediction = lr_1.predict(vector)\n",
        "        prediction = prediction[0]\n",
        "        if prediction == \"others\":\n",
        "            other_num[1]+=1\n",
        "        c_predictions.append(prediction)\n",
        "    elif \"3\" in row[1]['label']:\n",
        "        prediction = lr_2.predict(vector)\n",
        "        prediction = prediction[0]\n",
        "        if prediction == \"others\":\n",
        "            other_num[2]+=1\n",
        "        c_predictions.append(prediction)\n",
        "    elif \"4\" in row[1]['label']:\n",
        "        prediction = lr_3.predict(vector)\n",
        "        prediction = prediction[0]\n",
        "        if prediction == \"others\":\n",
        "            other_num[3]+=1\n",
        "        c_predictions.append(prediction)\n",
        "    else:\n",
        "        print(\"chi?\")"
      ],
      "metadata": {
        "id": "CNER4kEbmfKD"
      },
      "execution_count": null,
      "outputs": []
    },
    {
      "cell_type": "code",
      "source": [
        "other_num\n",
        "# len(c_predictions)"
      ],
      "metadata": {
        "colab": {
          "base_uri": "https://localhost:8080/"
        },
        "id": "5FbdgyErEDMY",
        "outputId": "65d0698f-f5b2-442b-a93c-13a093e3b174"
      },
      "execution_count": null,
      "outputs": [
        {
          "output_type": "execute_result",
          "data": {
            "text/plain": [
              "[0, 23, 0, 0]"
            ]
          },
          "metadata": {},
          "execution_count": 32
        }
      ]
    },
    {
      "cell_type": "code",
      "source": [
        "print(classification_report(labels_c,c_predictions))"
      ],
      "metadata": {
        "colab": {
          "base_uri": "https://localhost:8080/"
        },
        "outputId": "94f1c092-2743-47c0-8e86-9278a57c91a7",
        "id": "0K_FV_IqmfKD"
      },
      "execution_count": null,
      "outputs": [
        {
          "output_type": "stream",
          "name": "stdout",
          "text": [
            "                                                                 precision    recall  f1-score   support\n",
            "\n",
            "                                            1.1 threats of harm       0.00      0.00      0.00         8\n",
            "                       1.2 incitement and encouragement of harm       0.77      0.28      0.41        36\n",
            "                                        2.1 descriptive attacks       0.37      0.75      0.50       102\n",
            "                             2.2 aggressive and emotive attacks       0.40      0.46      0.43        96\n",
            "        2.3 dehumanising attacks & overt sexual objectification       0.50      0.03      0.06        29\n",
            "     3.1 casual use of gendered slurs, profanities, and insults       0.48      0.51      0.49        91\n",
            "        3.2 immutable gender differences and gender stereotypes       0.32      0.17      0.22        60\n",
            "                            3.3 backhanded gendered compliments       0.00      0.00      0.00         9\n",
            "             3.4 condescending explanations or unwelcome advice       0.00      0.00      0.00         7\n",
            "                4.1 supporting mistreatment of individual women       0.00      0.00      0.00        11\n",
            "4.2 supporting systemic discrimination against women as a group       0.67      0.05      0.10        37\n",
            "                                                         others       0.00      0.00      0.00         0\n",
            "\n",
            "                                                       accuracy                           0.39       486\n",
            "                                                      macro avg       0.29      0.19      0.18       486\n",
            "                                                   weighted avg       0.42      0.39      0.35       486\n",
            "\n"
          ]
        },
        {
          "output_type": "stream",
          "name": "stderr",
          "text": [
            "/usr/local/lib/python3.8/dist-packages/sklearn/metrics/_classification.py:1318: UndefinedMetricWarning: Precision and F-score are ill-defined and being set to 0.0 in labels with no predicted samples. Use `zero_division` parameter to control this behavior.\n",
            "  _warn_prf(average, modifier, msg_start, len(result))\n",
            "/usr/local/lib/python3.8/dist-packages/sklearn/metrics/_classification.py:1318: UndefinedMetricWarning: Recall and F-score are ill-defined and being set to 0.0 in labels with no true samples. Use `zero_division` parameter to control this behavior.\n",
            "  _warn_prf(average, modifier, msg_start, len(result))\n",
            "/usr/local/lib/python3.8/dist-packages/sklearn/metrics/_classification.py:1318: UndefinedMetricWarning: Precision and F-score are ill-defined and being set to 0.0 in labels with no predicted samples. Use `zero_division` parameter to control this behavior.\n",
            "  _warn_prf(average, modifier, msg_start, len(result))\n",
            "/usr/local/lib/python3.8/dist-packages/sklearn/metrics/_classification.py:1318: UndefinedMetricWarning: Recall and F-score are ill-defined and being set to 0.0 in labels with no true samples. Use `zero_division` parameter to control this behavior.\n",
            "  _warn_prf(average, modifier, msg_start, len(result))\n",
            "/usr/local/lib/python3.8/dist-packages/sklearn/metrics/_classification.py:1318: UndefinedMetricWarning: Precision and F-score are ill-defined and being set to 0.0 in labels with no predicted samples. Use `zero_division` parameter to control this behavior.\n",
            "  _warn_prf(average, modifier, msg_start, len(result))\n",
            "/usr/local/lib/python3.8/dist-packages/sklearn/metrics/_classification.py:1318: UndefinedMetricWarning: Recall and F-score are ill-defined and being set to 0.0 in labels with no true samples. Use `zero_division` parameter to control this behavior.\n",
            "  _warn_prf(average, modifier, msg_start, len(result))\n"
          ]
        }
      ]
    }
  ]
}